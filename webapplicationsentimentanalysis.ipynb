{
 "cells": [
  {
   "cell_type": "code",
   "execution_count": 15,
   "id": "9d201a68-0c1d-4ebb-9089-ea7d5f0a0482",
   "metadata": {},
   "outputs": [
    {
     "name": "stderr",
     "output_type": "stream",
     "text": [
      "WARNING:absl:Compiled the loaded model, but the compiled metrics have yet to be built. `model.compile_metrics` will be empty until you train or evaluate the model.\n"
     ]
    }
   ],
   "source": [
    "from keras.models import load_model\n",
    "\n",
    "import joblib\n",
    "\n",
    "from tensorflow.keras.preprocessing.sequence import pad_sequences\n",
    "\n",
    "\n",
    "model = load_model(\"model.h5\")\n",
    "tokenizer = joblib.load(\"tokenizer.pkl\")"
   ]
  },
  {
   "cell_type": "code",
   "execution_count": 16,
   "id": "4d20b286-57d7-4c4a-bd9f-532bf9722af9",
   "metadata": {},
   "outputs": [],
   "source": [
    "def predictive_system(review):\n",
    "    sequences = tokenizer.texts_to_sequences([review])\n",
    "    padded_sequences = pad_sequences(sequences ,maxlen =200)\n",
    "    prediction = model.predict(padded_sequences)\n",
    "    sentiment = \"POSTIVE\" if prediction[0][0] > 0.5 else \"NEGATIVE\"\n",
    "    #print(prediction[0][0])\n",
    "    return sentiment"
   ]
  },
  {
   "cell_type": "code",
   "execution_count": 17,
   "id": "4a4d7c2e-4b33-4f68-afa1-c5090e40de5f",
   "metadata": {},
   "outputs": [
    {
     "name": "stdout",
     "output_type": "stream",
     "text": [
      "\u001b[1m1/1\u001b[0m \u001b[32m━━━━━━━━━━━━━━━━━━━━\u001b[0m\u001b[37m\u001b[0m \u001b[1m1s\u001b[0m 758ms/step\n"
     ]
    },
    {
     "data": {
      "text/plain": [
       "'POSTIVE'"
      ]
     },
     "execution_count": 17,
     "metadata": {},
     "output_type": "execute_result"
    }
   ],
   "source": [
    "predictive_system(\"the movie is too good\")"
   ]
  },
  {
   "cell_type": "code",
   "execution_count": 25,
   "id": "ccf6cdf2-3cf9-4bb5-8114-91455ae5344b",
   "metadata": {},
   "outputs": [
    {
     "name": "stdout",
     "output_type": "stream",
     "text": [
      "\u001b[1m1/1\u001b[0m \u001b[32m━━━━━━━━━━━━━━━━━━━━\u001b[0m\u001b[37m\u001b[0m \u001b[1m0s\u001b[0m 61ms/step\n"
     ]
    },
    {
     "data": {
      "text/plain": [
       "'POSTIVE'"
      ]
     },
     "execution_count": 25,
     "metadata": {},
     "output_type": "execute_result"
    }
   ],
   "source": [
    "predictive_system(\"funny entertainment\")"
   ]
  },
  {
   "cell_type": "code",
   "execution_count": null,
   "id": "7a0988b2-2282-4e42-b196-14a4160a3f8f",
   "metadata": {},
   "outputs": [],
   "source": [
    "!pip install gradio==3.50\n"
   ]
  },
  {
   "cell_type": "code",
   "execution_count": null,
   "id": "d16df3e1-92be-4ed7-848c-1de4065dda19",
   "metadata": {},
   "outputs": [],
   "source": [
    "import gradio as gr\n",
    "title = \"MOVIE SENTIMENT ANALYSIS APPLICATION\"\n",
    "\n",
    "app = gr.interface(fn = predictive_system , inputs=\"textbox\" ,outputs=\"textbox\", title = title)\n",
    "\n",
    "app.launch(share=True)"
   ]
  },
  {
   "cell_type": "code",
   "execution_count": null,
   "id": "b773f4b5-4a61-4428-874d-6207b4471775",
   "metadata": {},
   "outputs": [],
   "source": []
  }
 ],
 "metadata": {
  "kernelspec": {
   "display_name": "Python 3",
   "language": "python",
   "name": "python3"
  },
  "language_info": {
   "codemirror_mode": {
    "name": "ipython",
    "version": 3
   },
   "file_extension": ".py",
   "mimetype": "text/x-python",
   "name": "python",
   "nbconvert_exporter": "python",
   "pygments_lexer": "ipython3",
   "version": "3.12.9"
  }
 },
 "nbformat": 4,
 "nbformat_minor": 5
}
